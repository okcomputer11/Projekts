{
 "cells": [
  {
   "cell_type": "markdown",
   "id": "e4c46f6b",
   "metadata": {},
   "source": [
    "### In one experiment, the percentage of shrinkage was measured by drying 50 plastic clay test specimens. The following results were produced:"
   ]
  },
  {
   "cell_type": "code",
   "execution_count": 1,
   "id": "fe3528d5",
   "metadata": {},
   "outputs": [
    {
     "name": "stdout",
     "output_type": "stream",
     "text": [
      "50\n"
     ]
    }
   ],
   "source": [
    "tests = (19.3, 20.5, 17.9, 17.3, 17.1, 15.8, 16.9, 17.1, 19.5, 22.5,\n",
    "       20.7, 18.5, 22.5, 10.1, 17.9, 18.4, 18.7, 18.8, 17.5, 17.5,\n",
    "       14.9, 12.3, 19.4, 16.8, 19.3, 17.3, 19.5, 17.4, 16.3, 18.8,\n",
    "       21.3, 23.4, 18.5, 19, 19, 16.1, 18.8, 17.5, 18.2, 17.4,\n",
    "       18.6, 18.3, 16.5, 17.4, 17.4, 20.5, 16.9, 17.5, 18.2, 22.5)\n",
    "\n",
    "n = len(tests)\n",
    "print(n)"
   ]
  },
  {
   "cell_type": "code",
   "execution_count": 4,
   "id": "b6b8d75a",
   "metadata": {
    "scrolled": true
   },
   "outputs": [
    {
     "name": "stdout",
     "output_type": "stream",
     "text": [
      "6.643856189774724\n",
      "maximum test: 23.4 , minimum test: 10.1 , range of the interval: 2.0018 --> (rounded): 2\n",
      "first interval: [10-12)\n",
      "second interval: [12-14)\n",
      ".\n",
      ".\n",
      "last interval: [22-24)\n",
      "\n"
     ]
    }
   ],
   "source": [
    "# Sturges-Regel k=1+log2(N)\n",
    "\n",
    "import math\n",
    "k = 1 + math.log2(n) # number of intervals\n",
    "print(k)\n",
    "\n",
    "#oder\n",
    "#k = math.sqrt(n)\n",
    "#print(k)\n",
    "\n",
    "min_test = min(tests)\n",
    "max_test = max(tests)\n",
    "rh = ( max_test - min_test ) / k\n",
    "h = round(rh) # interval size\n",
    "\n",
    "print(f'maximum test: {max_test} , minimum test: {min_test} , range of the interval: {rh:.4f} --> (rounded): {h}')\n",
    "\n",
    "min_test = round(min_test)\n",
    "max_test = round(max_test)\n",
    "print(f'first interval: [{min_test+(h*0)}-{min_test + h*1})')\n",
    "print(f'second interval: [{min_test+(h*1)}-{min_test + h*2})')\n",
    "print('.')\n",
    "print('.')\n",
    "k = math.ceil(k)\n",
    "print(f'last interval: [{min_test+(h*(k-1))}-{min_test + h*k})')\n",
    "\n",
    "print()"
   ]
  },
  {
   "cell_type": "code",
   "execution_count": 6,
   "id": "84b26a70",
   "metadata": {
    "scrolled": false
   },
   "outputs": [
    {
     "name": "stdout",
     "output_type": "stream",
     "text": [
      "i: [10, 12, 14, 16, 18, 20, 22]\n",
      "to print: [[0, '10-12'], [1, '12-14'], [2, '14-16'], [3, '16-18'], [4, '18-20'], [5, '20-22'], [6, '22-24']]\n",
      "╒════╤════════════╕\n",
      "│    │ interval   │\n",
      "╞════╪════════════╡\n",
      "│  0 │ 10-12      │\n",
      "├────┼────────────┤\n",
      "│  1 │ 12-14      │\n",
      "├────┼────────────┤\n",
      "│  2 │ 14-16      │\n",
      "├────┼────────────┤\n",
      "│  3 │ 16-18      │\n",
      "├────┼────────────┤\n",
      "│  4 │ 18-20      │\n",
      "├────┼────────────┤\n",
      "│  5 │ 20-22      │\n",
      "├────┼────────────┤\n",
      "│  6 │ 22-24      │\n",
      "╘════╧════════════╛\n"
     ]
    }
   ],
   "source": [
    "from tabulate import tabulate\n",
    "\n",
    "i = []\n",
    "show_i = []\n",
    "\n",
    "for t in range(k):\n",
    "    i.append( min_test + (h*t) ) #, min_test + h*(t+1)])\n",
    "    show_i.append([t , str(min_test + (h*t))+'-'+str(min_test + h*(t+1))])\n",
    "\n",
    "print('i:', i)\n",
    "print('to print:', show_i)\n",
    "\n",
    "print(tabulate(show_i, headers=['', 'interval'], tablefmt='fancy_grid')) # headers='firstrow'\n"
   ]
  },
  {
   "cell_type": "code",
   "execution_count": 7,
   "id": "8174a1d6",
   "metadata": {
    "scrolled": true
   },
   "outputs": [
    {
     "name": "stdout",
     "output_type": "stream",
     "text": [
      "19.3 --> 4 \n",
      "20.5 --> 5 \n",
      "17.9 --> 3 \n",
      "17.3 --> 3 \n",
      "17.1 --> 3 \n",
      "15.8 --> 2 \n",
      "16.9 --> 3 \n",
      "17.1 --> 3 \n",
      "19.5 --> 4 \n",
      "22.5 --> 6 \n",
      "20.7 --> 5 \n",
      "18.5 --> 4 \n",
      "22.5 --> 6 \n",
      "10.1 --> 0 \n",
      "17.9 --> 3 \n",
      "18.4 --> 4 \n",
      "18.7 --> 4 \n",
      "18.8 --> 4 \n",
      "17.5 --> 3 \n",
      "17.5 --> 3 \n",
      "14.9 --> 2 \n",
      "12.3 --> 1 \n",
      "19.4 --> 4 \n",
      "16.8 --> 3 \n",
      "19.3 --> 4 \n",
      "17.3 --> 3 \n",
      "19.5 --> 4 \n",
      "17.4 --> 3 \n",
      "16.3 --> 3 \n",
      "18.8 --> 4 \n",
      "21.3 --> 5 \n",
      "23.4 --> 6 \n",
      "18.5 --> 4 \n",
      "19 --> 4 \n",
      "19 --> 4 \n",
      "16.1 --> 3 \n",
      "18.8 --> 4 \n",
      "17.5 --> 3 \n",
      "18.2 --> 4 \n",
      "17.4 --> 3 \n",
      "18.6 --> 4 \n",
      "18.3 --> 4 \n",
      "16.5 --> 3 \n",
      "17.4 --> 3 \n",
      "17.4 --> 3 \n",
      "20.5 --> 5 \n",
      "16.9 --> 3 \n",
      "17.5 --> 3 \n",
      "18.2 --> 4 \n",
      "22.5 --> 6 \n"
     ]
    }
   ],
   "source": [
    "for t in range(len(tests)):\n",
    "    # zuweisen, z.B. \"17.3\" dem 4° Intervall --> k = 3 --> i[3]=17.3\n",
    "    ci = math.floor( tests[t]/2 - 5 )\n",
    "    print(f'{tests[t]} --> {ci} ')\n"
   ]
  },
  {
   "cell_type": "code",
   "execution_count": 8,
   "id": "fc2d4dd6",
   "metadata": {},
   "outputs": [
    {
     "name": "stdout",
     "output_type": "stream",
     "text": [
      "╒════════════╤═════════════╕\n",
      "│ interval   │   Frecuency │\n",
      "╞════════════╪═════════════╡\n",
      "│ 10-12      │           0 │\n",
      "├────────────┼─────────────┤\n",
      "│ 12-14      │           0 │\n",
      "├────────────┼─────────────┤\n",
      "│ 14-16      │           0 │\n",
      "├────────────┼─────────────┤\n",
      "│ 16-18      │           0 │\n",
      "├────────────┼─────────────┤\n",
      "│ 18-20      │           0 │\n",
      "├────────────┼─────────────┤\n",
      "│ 20-22      │           0 │\n",
      "├────────────┼─────────────┤\n",
      "│ 22-24      │           0 │\n",
      "╘════════════╧═════════════╛\n",
      "╒════════════╤═════════════╕\n",
      "│ interval   │   Frecuency │\n",
      "╞════════════╪═════════════╡\n",
      "│ 10-12      │           1 │\n",
      "├────────────┼─────────────┤\n",
      "│ 12-14      │           1 │\n",
      "├────────────┼─────────────┤\n",
      "│ 14-16      │           2 │\n",
      "├────────────┼─────────────┤\n",
      "│ 16-18      │          20 │\n",
      "├────────────┼─────────────┤\n",
      "│ 18-20      │          18 │\n",
      "├────────────┼─────────────┤\n",
      "│ 20-22      │           4 │\n",
      "├────────────┼─────────────┤\n",
      "│ 22-24      │           4 │\n",
      "╘════════════╧═════════════╛\n"
     ]
    }
   ],
   "source": [
    "i = []\n",
    "i_plus_frec = []\n",
    "\n",
    "for t in range(k):\n",
    "    i.append( min_test + (h*t) ) #, min_test + h*(t+1)])\n",
    "    i_plus_frec.append([str(min_test + (h*t))+'-'+str(min_test + h*(t+1)), 0])\n",
    "\n",
    "print(tabulate(i_plus_frec, headers=['interval','Frecuency'], tablefmt='fancy_grid')) # headers='firstrow'\n",
    " \n",
    "for t in range(len(tests)):\n",
    "    ci = math.floor( tests[t]/2 - 5 )\n",
    "    #print(f'{tests[t]} --> {ci} ')\n",
    "    i_plus_frec[ci][1] = i_plus_frec[ci][1] + 1 \n",
    "    \n",
    "print(tabulate(i_plus_frec, headers=['interval','Frecuency'], tablefmt='fancy_grid')) # headers='firstrow'\n",
    "                \n"
   ]
  },
  {
   "cell_type": "code",
   "execution_count": 26,
   "id": "7a132597",
   "metadata": {
    "scrolled": false
   },
   "outputs": [
    {
     "name": "stdout",
     "output_type": "stream",
     "text": [
      "[['10-12', 1], ['12-14', 1], ['14-16', 2], ['16-18', 20], ['18-20', 18], ['20-22', 4], ['22-24', 4]]\n",
      "20\n",
      "I isolate the frequencies in a single array and add \"0\" front and back:  [0, 1, 1, 2, 20, 18, 4, 4, 0]  and intervals marks:  ['8-10', '10-12', '12-14', '14-16', '16-18', '18-20', '20-22', '22-24', '24-26']\n"
     ]
    },
    {
     "data": {
      "text/plain": [
       "(array([ 1.,  1.,  2., 20., 18.,  4.,  4.]),\n",
       " array([0.        , 1.14285714, 2.28571429, 3.42857143, 4.57142857,\n",
       "        5.71428571, 6.85714286, 8.        ]),\n",
       " <BarContainer object of 7 artists>)"
      ]
     },
     "execution_count": 26,
     "metadata": {},
     "output_type": "execute_result"
    },
    {
     "data": {
      "image/png": "[encoded data removed]",
      "text/plain": [
       "<Figure size 640x480 with 1 Axes>"
      ]
     },
     "metadata": {},
     "output_type": "display_data"
    }
   ],
   "source": [
    "print(i_plus_frec)\n",
    "print(i_plus_frec[3][1])\n",
    "\n",
    "\n",
    "intervals = ['8-10','10-12', '12-14', '14-16', '16-18', '18-20', '20-22', '22-24', '24-26']\n",
    "\n",
    "frec = [0]\n",
    "for t in range(k):\n",
    "    frec.append(i_plus_frec[t][1])\n",
    "\n",
    "frec.append(0)\n",
    "print('I isolate the frequencies in a single array and add \"0\" front and back: ', frec, ' and intervals marks: ', intervals)\n",
    "\n",
    "import matplotlib.pyplot as plt\n",
    "#plt.hist(bins[:-1], bins, weights=counts)\n",
    "#plt.style.use('ggplot')\n",
    "\n",
    "################ to plot the Polygon\n",
    "xs = intervals\n",
    "ys = frec\n",
    "plt.figure()\n",
    "######################################\n",
    "\n",
    "plt.plot(xs,ys) \n",
    "#plt.show()\n",
    "plt.hist(intervals, bins=7, weights=frec)\n"
   ]
  },
  {
   "cell_type": "code",
   "execution_count": null,
   "id": "7ee7b930",
   "metadata": {},
   "outputs": [],
   "source": []
  }
 ],
 "metadata": {
  "kernelspec": {
   "display_name": "Python 3 (ipykernel)",
   "language": "python",
   "name": "python3"
  },
  "language_info": {
   "codemirror_mode": {
    "name": "ipython",
    "version": 3
   },
   "file_extension": ".py",
   "mimetype": "text/x-python",
   "name": "python",
   "nbconvert_exporter": "python",
   "pygments_lexer": "ipython3",
   "version": "3.7.16"
  }
 },
 "nbformat": 4,
 "nbformat_minor": 5
}
